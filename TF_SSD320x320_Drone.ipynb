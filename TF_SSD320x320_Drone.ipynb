{
  "cells": [
    {
      "cell_type": "markdown",
      "metadata": {
        "id": "0_0rlavv0FzJ"
      },
      "source": [
        "# DEPENDENCIES"
      ]
    },
    {
      "cell_type": "code",
      "execution_count": null,
      "metadata": {
        "colab": {
          "base_uri": "https://localhost:8080/"
        },
        "id": "cKnNJDiZGVPT",
        "outputId": "3809cd65-f5d0-4e40-d9e5-103680dd3bb5"
      },
      "outputs": [],
      "source": [
        "import os\n",
        "import glob\n",
        "import xml.etree.ElementTree as ET\n",
        "import pandas as pd\n",
        "import tensorflow as tf\n",
        "print(tf.__version__)"
      ]
    },
    {
      "cell_type": "code",
      "execution_count": null,
      "metadata": {
        "id": "qwyQ9j4U2MfX"
      },
      "outputs": [],
      "source": [
        "from google.colab import drive\n",
        "drive.mount('/content/drive')"
      ]
    },
    {
      "cell_type": "markdown",
      "metadata": {
        "id": "GmZkXEgnz_gH"
      },
      "source": [
        "# PATH STRUCTURE"
      ]
    },
    {
      "cell_type": "code",
      "execution_count": null,
      "metadata": {
        "id": "dCq59I4uQ4tN"
      },
      "outputs": [],
      "source": [
        "WORKSPACE_PATH = '/content/drive/MyDrive/Tensorflow_Scratch_Drone'\n",
        "MODEL_PATH = '/content/drive/MyDrive/Tensorflow_Scratch_Drone/data/ssd_mobilenet_v2_fpnlite_320x320_coco17_tpu-8'\n",
        "CONFIG_PATH = MODEL_PATH + 'pipeline.config'\n",
        "CHECKPOINT_PATH = MODEL_PATH+'checkpoint'\n",
        "ANNOTATION_PATH = WORKSPACE_PATH+'data/Annotations'\n"
      ]
    },
    {
      "cell_type": "code",
      "execution_count": null,
      "metadata": {
        "colab": {
          "base_uri": "https://localhost:8080/"
        },
        "id": "hWbaPNjHJhte",
        "outputId": "4fc2a2bd-51c8-49ae-c61b-de4f923d6c3e"
      },
      "outputs": [],
      "source": [
        "cd /content/drive/MyDrive/Tensorflow_Scratch_Drone"
      ]
    },
    {
      "cell_type": "markdown",
      "metadata": {
        "id": "SVlVAIbpyqMW"
      },
      "source": [
        "# TRANSFER LEARNING USING TF WEIGHTS"
      ]
    },
    {
      "cell_type": "markdown",
      "metadata": {
        "id": "y4tQrPDf0NpH"
      },
      "source": [
        "CLONING MODEL ZOO FROM TENSORFLOW OFFICIAL REPO"
      ]
    },
    {
      "cell_type": "code",
      "execution_count": null,
      "metadata": {
        "colab": {
          "base_uri": "https://localhost:8080/"
        },
        "id": "LN6lKDQWKabt",
        "outputId": "b35b6207-4305-4d27-cae2-94bcc24601e0"
      },
      "outputs": [],
      "source": [
        "!git clone  https://github.com/tensorflow/models"
      ]
    },
    {
      "cell_type": "code",
      "execution_count": null,
      "metadata": {
        "id": "nZlUuCPUztWk"
      },
      "outputs": [],
      "source": [
        "#wget.download('http://download.tensorflow.org/models/object_detection/tf2/20200711/ssd_mobilenet_v2_fpnlite_320x320_coco17_tpu-8.tar.gz')\n",
        "#!mv ssd_mobilenet_v2_fpnlite_320x320_coco17_tpu-8.tar.gz {PRETRAINED_MODEL_PATH}\n",
        "#!cd {PRETRAINED_MODEL_PATH} && tar -zxvf ssd_mobilenet_v2_fpnlite_320x320_coco17_tpu-8.tar.gz"
      ]
    },
    {
      "cell_type": "code",
      "execution_count": null,
      "metadata": {
        "colab": {
          "base_uri": "https://localhost:8080/"
        },
        "id": "EXK823mEL-rM",
        "outputId": "efd47252-881c-49bc-e1d1-bf1a9d2ffa09"
      },
      "outputs": [],
      "source": [
        "%cd models/research"
      ]
    },
    {
      "cell_type": "code",
      "execution_count": null,
      "metadata": {
        "colab": {
          "base_uri": "https://localhost:8080/"
        },
        "id": "AaVWh-4o215o",
        "outputId": "fb330dde-f509-4b0b-ae4d-000e786cbde9"
      },
      "outputs": [],
      "source": [
        "# Define the source tar.gz file and destination directory\n",
        "source_tar_file = '/content/drive/MyDrive/Tensorflow_Scratch_Drone/data/faster_rcnn_resnet50_v1_640x640_coco17_tpu-8.tar.gz[1].tar'\n",
        "destination_dir = '/content/drive/MyDrive/Tensorflow_Scratch_Drone/data/'\n",
        "\n",
        "# Use the tar command to extract the contents\n",
        "!tar -xvf $source_tar_file -C $destination_dir\n"
      ]
    },
    {
      "cell_type": "code",
      "execution_count": null,
      "metadata": {
        "colab": {
          "base_uri": "https://localhost:8080/"
        },
        "id": "gSmUYLbFMkbG",
        "outputId": "f2cb5aa1-36f8-4ed4-a5e4-575caa80193f"
      },
      "outputs": [],
      "source": [
        "!protoc object_detection/protos/*.proto --python_out=.\n",
        "!cp object_detection/packages/tf2/setup.py .\n",
        "!python -m pip install ."
      ]
    },
    {
      "cell_type": "markdown",
      "metadata": {
        "id": "bmbsFF9w0dOq"
      },
      "source": [
        "MODEL CHECK"
      ]
    },
    {
      "cell_type": "code",
      "execution_count": null,
      "metadata": {
        "colab": {
          "base_uri": "https://localhost:8080/"
        },
        "id": "5OSrnqLyNZ4r",
        "outputId": "1e41edd3-3d4b-486e-9616-6a5c46676915"
      },
      "outputs": [],
      "source": [
        "!python object_detection/builders/model_builder_tf2_test.py"
      ]
    },
    {
      "cell_type": "markdown",
      "metadata": {
        "id": "Nd7YglF_zYw0"
      },
      "source": [
        "# GENERATE TF RECORD FROM XML(PASCAL VOC) ANNOTATIONS"
      ]
    },
    {
      "cell_type": "code",
      "execution_count": null,
      "metadata": {
        "id": "4Zpwdaqpzfxy"
      },
      "outputs": [],
      "source": [
        "!python {SCRIPTS_PATH + '/generate_tfrecord.py'} -x {IMAGE_PATH + '/train'} -l {ANNOTATION_PATH + '/label_map.pbtxt'} -o {ANNOTATION_PATH + '/train.record'}"
      ]
    },
    {
      "cell_type": "markdown",
      "metadata": {
        "id": "QmAJaxiiPgoa"
      },
      "source": [
        "# SSD 320x320 FPN LITE"
      ]
    },
    {
      "cell_type": "code",
      "execution_count": null,
      "metadata": {
        "id": "YaRP5JYoNdsb"
      },
      "outputs": [],
      "source": [
        "Mode_config=\"object_detection/configs/tf2/ssd_mobilenet_v2_fpnlite_320x320_coco17_tpu-8.config\""
      ]
    },
    {
      "cell_type": "code",
      "execution_count": null,
      "metadata": {
        "id": "rZ-1TNRSPeRQ"
      },
      "outputs": [],
      "source": [
        "import tensorflow as tf\n",
        "\n",
        "from object_detection.utils import config_util\n",
        "from object_detection.protos import pipeline_pb2\n",
        "from google.protobuf import text_format"
      ]
    },
    {
      "cell_type": "code",
      "execution_count": null,
      "metadata": {
        "colab": {
          "base_uri": "https://localhost:8080/"
        },
        "id": "xeh-tXaOQfuB",
        "outputId": "4cbc1edd-3023-4105-fe05-ab52dbac48f9"
      },
      "outputs": [],
      "source": [
        "CONFIG_PATH = '/content/drive/MyDrive/Tensorflow_Scratch_Drone/data/ssd_mobilenet_v2_fpnlite_320x320_coco17_tpu-8/pipeline.config'\n",
        "print(CONFIG_PATH)\n",
        "config= config_util.get_configs_from_pipeline_file(CONFIG_PATH)\n"
      ]
    },
    {
      "cell_type": "code",
      "execution_count": null,
      "metadata": {
        "id": "qGOjJNVnQvmO"
      },
      "outputs": [],
      "source": [
        "pipeline_config = pipeline_pb2.TrainEvalPipelineConfig()\n",
        "with tf.io.gfile.GFile(CONFIG_PATH,'r') as f:\n",
        "  proto_str = f.read()\n",
        "  text_format.Merge(proto_str,pipeline_config)"
      ]
    },
    {
      "cell_type": "markdown",
      "metadata": {
        "id": "OLtsKpohTRJO"
      },
      "source": [
        "# CUSTOM PIPELINE CONFIG"
      ]
    },
    {
      "cell_type": "code",
      "execution_count": null,
      "metadata": {
        "id": "NPZuR_C4Qyw7"
      },
      "outputs": [],
      "source": [
        "pipeline_config.model.ssd.num_classes = 1\n",
        "pipeline_config.train_config.batch_size = 4\n",
        "pipeline_config.train_config.fine_tune_checkpoint = MODEL_PATH+'/ssd_mobilenet_v2_fpnlite_640x640_coco17_tpu-8/checkpoint/ckpt-0'\n",
        "pipeline_config.train_config.fine_tune_checkpoint_type = 'detection'\n",
        "pipeline_config.train_input_reader.label_map_path = ANNOTATION_PATH + 'label_map.pbtxt'\n",
        "pipeline_config.train_input_reader.tf_record_input_reader.input_path[:]=[ANNOTATION_PATH+'/Drone.tfrecord']\n",
        "pipeline_config.eval_input_reader[0].label_map_path = ANNOTATION_PATH+'/label_map.pbtxt'\n",
        "pipeline_config.eval_input_reader[0].tf_record_input_reader.input_path[:] = ANNOTATION_PATH+'/Drone.tfrecord'"
      ]
    },
    {
      "cell_type": "code",
      "execution_count": null,
      "metadata": {
        "colab": {
          "base_uri": "https://localhost:8080/"
        },
        "id": "J5l25UpnTNRw",
        "outputId": "a1c3becb-4f2a-4797-dba9-eebfdf8bc478"
      },
      "outputs": [],
      "source": [
        "pipeline_config"
      ]
    },
    {
      "cell_type": "markdown",
      "metadata": {
        "id": "v2SHFoAHTty6"
      },
      "source": [
        "# UPDATING IN CONFIG FILE"
      ]
    },
    {
      "cell_type": "code",
      "execution_count": null,
      "metadata": {
        "id": "-zKTJ207Tw8L"
      },
      "outputs": [],
      "source": [
        "config_text = text_format.MessageToString(pipeline_config)\n",
        "with tf.io.gfile.GFile(CONFIG_PATH,'wb') as f:\n",
        "  f.write(config_text)"
      ]
    },
    {
      "cell_type": "code",
      "execution_count": null,
      "metadata": {
        "id": "xSpe3UXSUBgw"
      },
      "outputs": [],
      "source": [
        "#JUST TO SHOW THE CHANGES MADE JUST A MARKDOWN CELL\n",
        "model {\n",
        "  ssd {\n",
        "    num_classes: 1 #CHANGED\n",
        "    image_resizer {\n",
        "      fixed_shape_resizer {\n",
        "        height: 320\n",
        "        width: 320\n",
        "      }\n",
        "    }\n",
        "    feature_extractor {\n",
        "      type: \"ssd_mobilenet_v2_fpn_keras\"\n",
        "      depth_multiplier: 1.0\n",
        "      min_depth: 16\n",
        "      conv_hyperparams {\n",
        "        regularizer {\n",
        "          l2_regularizer {\n",
        "            weight: 4e-05\n",
        "          }\n",
        "        }\n",
        "        initializer {\n",
        "          random_normal_initializer {\n",
        "            mean: 0.0\n",
        "            stddev: 0.01\n",
        "          }\n",
        "        }\n",
        "        activation: RELU_6\n",
        "        batch_norm {\n",
        "          decay: 0.997\n",
        "          scale: true\n",
        "          epsilon: 0.001\n",
        "        }\n",
        "      }\n",
        "      use_depthwise: true\n",
        "      override_base_feature_extractor_hyperparams: true\n",
        "      fpn {\n",
        "        min_level: 3\n",
        "        max_level: 7\n",
        "        additional_layer_depth: 128\n",
        "      }\n",
        "    }\n",
        "    box_coder {\n",
        "      faster_rcnn_box_coder {\n",
        "        y_scale: 10.0\n",
        "        x_scale: 10.0\n",
        "        height_scale: 5.0\n",
        "        width_scale: 5.0\n",
        "      }\n",
        "    }\n",
        "    matcher {\n",
        "      argmax_matcher {\n",
        "        matched_threshold: 0.5\n",
        "        unmatched_threshold: 0.5\n",
        "        ignore_thresholds: false\n",
        "        negatives_lower_than_unmatched: true\n",
        "        force_match_for_each_row: true\n",
        "        use_matmul_gather: true\n",
        "      }\n",
        "    }\n",
        "    similarity_calculator {\n",
        "      iou_similarity {\n",
        "      }\n",
        "    }\n",
        "    box_predictor {\n",
        "      weight_shared_convolutional_box_predictor {\n",
        "        conv_hyperparams {\n",
        "          regularizer {\n",
        "            l2_regularizer {\n",
        "              weight: 4e-05\n",
        "            }\n",
        "          }\n",
        "          initializer {\n",
        "            random_normal_initializer {\n",
        "              mean: 0.0\n",
        "              stddev: 0.01\n",
        "            }\n",
        "          }\n",
        "          activation: RELU_6\n",
        "          batch_norm {\n",
        "            decay: 0.997\n",
        "            scale: true\n",
        "            epsilon: 0.001\n",
        "          }\n",
        "        }\n",
        "        depth: 128\n",
        "        num_layers_before_predictor: 4\n",
        "        kernel_size: 3\n",
        "        class_prediction_bias_init: -4.6\n",
        "        share_prediction_tower: true\n",
        "        use_depthwise: true\n",
        "      }\n",
        "    }\n",
        "    anchor_generator {\n",
        "      multiscale_anchor_generator {\n",
        "        min_level: 3\n",
        "        max_level: 7\n",
        "        anchor_scale: 4.0\n",
        "        aspect_ratios: 1.0\n",
        "        aspect_ratios: 2.0\n",
        "        aspect_ratios: 0.5\n",
        "        scales_per_octave: 2\n",
        "      }\n",
        "    }\n",
        "    post_processing {\n",
        "      batch_non_max_suppression {\n",
        "        score_threshold: 1e-08\n",
        "        iou_threshold: 0.6\n",
        "        max_detections_per_class: 100\n",
        "        max_total_detections: 100\n",
        "        use_static_shapes: false\n",
        "      }\n",
        "      score_converter: SIGMOID\n",
        "    }\n",
        "    normalize_loss_by_num_matches: true\n",
        "    loss {\n",
        "      localization_loss {\n",
        "        weighted_smooth_l1 {\n",
        "        }\n",
        "      }\n",
        "      classification_loss {\n",
        "        weighted_sigmoid_focal {\n",
        "          gamma: 2.0\n",
        "          alpha: 0.25\n",
        "        }\n",
        "      }\n",
        "      classification_weight: 1.0\n",
        "      localization_weight: 1.0\n",
        "    }\n",
        "    encode_background_as_zeros: true\n",
        "    normalize_loc_loss_by_codesize: true\n",
        "    inplace_batchnorm_update: true\n",
        "    freeze_batchnorm: false\n",
        "  }\n",
        "}\n",
        "train_config {\n",
        "  batch_size: 8 #CHANGED\n",
        "  data_augmentation_options {\n",
        "    random_horizontal_flip {\n",
        "    }\n",
        "  }\n",
        "  data_augmentation_options {\n",
        "    random_crop_image {\n",
        "      min_object_covered: 0.0\n",
        "      min_aspect_ratio: 0.75\n",
        "      max_aspect_ratio: 3.0\n",
        "      min_area: 0.75\n",
        "      max_area: 1.0\n",
        "      overlap_thresh: 0.0\n",
        "    }\n",
        "  }\n",
        "  sync_replicas: true\n",
        "  optimizer {\n",
        "    momentum_optimizer {\n",
        "      learning_rate {\n",
        "        cosine_decay_learning_rate {\n",
        "          learning_rate_base: 0.08\n",
        "          total_steps: 50000\n",
        "          warmup_learning_rate: 0.026666\n",
        "          warmup_steps: 1000\n",
        "        }\n",
        "      }\n",
        "      momentum_optimizer_value: 0.9\n",
        "    }\n",
        "    use_moving_average: false\n",
        "  }\n",
        "  fine_tune_checkpoint: \"/content/drive/MyDrive/Tensorflow_Scratch_Drone/data/ssd_mobilenet_v2_fpnlite_320x320_coco17_tpu-8/checkpoint/ckpt-0\" #CHANGED\n",
        "  num_steps: 50000\n",
        "  startup_delay_steps: 0.0\n",
        "  replicas_to_aggregate: 8\n",
        "  max_number_of_boxes: 100\n",
        "  unpad_groundtruth_tensors: false\n",
        "  fine_tune_checkpoint_type: \"detection\" #CHANGED FROM CLASSIFICATION\n",
        "  fine_tune_checkpoint_version: V2\n",
        "}\n",
        "train_input_reader {\n",
        "  label_map_path: \"/content/drive/MyDrive/Tensorflow_Scratch_Drone/data/Annotations/label_map_SSD.pbtxt\" #CHANGED\n",
        "  tf_record_input_reader {\n",
        "    input_path: \"/content/drive/MyDrive/Tensorflow_Scratch_Drone/data/Annotations/train.record\" #CHANGED\n",
        "  }\n",
        "}\n",
        "eval_config {\n",
        "  metrics_set: \"coco_detection_metrics\"\n",
        "  use_moving_averages: false\n",
        "}\n",
        "eval_input_reader {\n",
        "  label_map_path: \"/content/drive/MyDrive/Tensorflow_Scratch_Drone/data/Annotations/label_map_SSD.pbtxt\"\n",
        "  shuffle: false\n",
        "  num_epochs: 1\n",
        "  tf_record_input_reader {\n",
        "    input_path: \"/content/drive/MyDrive/Tensorflow_Scratch_Drone/data/Annotations/train.record\"\n",
        "  }\n",
        "\n",
        "}\n"
      ]
    },
    {
      "cell_type": "markdown",
      "metadata": {
        "id": "d8l7esUsXZtH"
      },
      "source": [
        "# TRAIN"
      ]
    },
    {
      "cell_type": "code",
      "execution_count": null,
      "metadata": {
        "colab": {
          "base_uri": "https://localhost:8080/",
          "height": 821
        },
        "id": "Hf4QmC4mXA6w",
        "outputId": "7b162d5f-d608-4887-c2ac-c2415540c98e"
      },
      "outputs": [],
      "source": [
        "%load_ext tensorboard\n",
        "%tensorboard --logdir '/content/drive/MyDrive/Tensorflow_Scratch_Drone/data/logs_train/'"
      ]
    },
    {
      "cell_type": "code",
      "execution_count": null,
      "metadata": {
        "id": "CP4f73FB09O8"
      },
      "outputs": [],
      "source": [
        "!kill 28711"
      ]
    },
    {
      "cell_type": "code",
      "execution_count": null,
      "metadata": {
        "colab": {
          "base_uri": "https://localhost:8080/"
        },
        "id": "WMDerIEhYfEO",
        "outputId": "5868c762-0a37-421c-bb2f-67c8be226b9c"
      },
      "outputs": [],
      "source": [
        "\n",
        "%cd object_detection"
      ]
    },
    {
      "cell_type": "code",
      "execution_count": null,
      "metadata": {
        "colab": {
          "base_uri": "https://localhost:8080/"
        },
        "id": "O8wrwBjKYwF6",
        "outputId": "f89c3d19-02d9-4968-b68d-986cbd2a9c0b"
      },
      "outputs": [],
      "source": [
        "!python model_main_tf2.py --model_dir=/content/drive/MyDrive/Tensorflow_Scratch_Drone/data/logs_train2 --pipeline_config_path=/content/drive/MyDrive/Tensorflow_Scratch_Drone/data/ssd_mobilenet_v2_fpnlite_640x640_coco17_tpu-8/ssd_mobilenet_v2_fpnlite_640x640_coco17_tpu-8/ssd_mobilenet_v2_fpnlite_640x640_coco17_tpu-8pipeline.config"
      ]
    },
    {
      "cell_type": "code",
      "execution_count": null,
      "metadata": {
        "id": "LVDmvb5YjsdR"
      },
      "outputs": [],
      "source": []
    },
    {
      "cell_type": "code",
      "execution_count": null,
      "metadata": {
        "colab": {
          "base_uri": "https://localhost:8080/",
          "height": 1000
        },
        "id": "z5iWkiB6coJ7",
        "outputId": "ea8c4314-b8a4-4fd7-d24b-2b89f4b24e15"
      },
      "outputs": [],
      "source": [
        "!pip install tensorflow==2.13"
      ]
    },
    {
      "cell_type": "markdown",
      "metadata": {
        "id": "RwDWJhuSaxZB"
      },
      "source": [
        "# LOAD TRAINED MODEL"
      ]
    },
    {
      "cell_type": "code",
      "execution_count": null,
      "metadata": {
        "id": "yra2dMq1a1O8"
      },
      "outputs": [],
      "source": [
        "import os\n",
        "from object_detection.utils import label_map_util\n",
        "from object_detection.utils import visualization_utils as viz_utils\n",
        "from object_detection.builders import model_builder\n"
      ]
    },
    {
      "cell_type": "code",
      "execution_count": null,
      "metadata": {
        "id": "DUboviH5cXFJ"
      },
      "outputs": [],
      "source": [
        "\n",
        "CONFIG_PATH = '/content/drive/MyDrive/Tensorflow_Scratch_Drone/data/ssd_mobilenet_v2_fpnlite_640x640_coco17_tpu-8/ssd_mobilenet_v2_fpnlite_640x640_coco17_tpu-8/ssd_mobilenet_v2_fpnlite_640x640_coco17_tpu-8pipeline.config'\n",
        "CHECKPOINT_PATH = '/content/drive/MyDrive/Tensorflow_Scratch_Drone/data/logs_train2'"
      ]
    },
    {
      "cell_type": "code",
      "execution_count": null,
      "metadata": {
        "colab": {
          "base_uri": "https://localhost:8080/"
        },
        "id": "W8eaurqabl3M",
        "outputId": "7906834c-b8ea-48bf-fc14-0ba1439936ed"
      },
      "outputs": [],
      "source": [
        "configs = config_util.get_configs_from_pipeline_file(CONFIG_PATH)\n",
        "detection_model = model_builder.build(model_config=configs['model'],is_training =False)\n",
        "\n",
        "ckpt = tf.compat.v2.train.Checkpoint(model=detection_model)\n",
        "ckpt.restore(os.path.join(CHECKPOINT_PATH,'ckpt-9')).expect_partial()"
      ]
    },
    {
      "cell_type": "markdown",
      "metadata": {
        "id": "8pc84ONAdkjj"
      },
      "source": [
        "# TESTING"
      ]
    },
    {
      "cell_type": "code",
      "execution_count": null,
      "metadata": {
        "id": "P_UbKqJ0djtP"
      },
      "outputs": [],
      "source": [
        "@tf.function\n",
        "def detect_fn(image):\n",
        "  image,shapes = detection_model.preprocess(image)\n",
        "  prediction_dict= detection_model.predict(image,shapes)\n",
        "  detections = detection_model.postprocess(prediction_dict,shapes)\n",
        "  return detections"
      ]
    },
    {
      "cell_type": "code",
      "execution_count": null,
      "metadata": {
        "id": "ug3rIeaxeL7D"
      },
      "outputs": [],
      "source": [
        "import cv2\n",
        "import numpy as np\n",
        "from google.colab.patches import cv2_imshow\n"
      ]
    },
    {
      "cell_type": "code",
      "execution_count": null,
      "metadata": {
        "colab": {
          "base_uri": "https://localhost:8080/"
        },
        "id": "HnjQMs3feXrl",
        "outputId": "da88aa44-dcd6-4c5b-d4ad-805dfc2a0226"
      },
      "outputs": [],
      "source": [
        "category_index = label_map_util.create_category_index_from_labelmap('/content/drive/MyDrive/Tensorflow_Scratch_Drone/data/Annotations/label_map_SSD.pbtxt')\n",
        "category_index"
      ]
    },
    {
      "cell_type": "code",
      "execution_count": null,
      "metadata": {
        "id": "aUYdKMjMetYa"
      },
      "outputs": [],
      "source": [
        "cap = cv2.VideoCapture('/content/drive/MyDrive/Tensorflow_Scratch_Drone/Dronetest.mp4')\n",
        "width = int(cap.get(cv2.CAP_PROP_FRAME_WIDTH))\n",
        "height = int(cap.get(cv2.CAP_PROP_FRAME_HEIGHT))\n"
      ]
    },
    {
      "cell_type": "code",
      "execution_count": null,
      "metadata": {
        "colab": {
          "base_uri": "https://localhost:8080/",
          "height": 1000
        },
        "id": "Fo_F4PJEfLEz",
        "outputId": "1c0051a8-03ed-4e05-cdb0-f15811cd65a7"
      },
      "outputs": [],
      "source": [
        "fourcc = cv2.VideoWriter_fourcc(*'XVID')\n",
        "output_file = 'output_video.avi'\n",
        "output_resolution = (640, 640)\n",
        "\n",
        "out = cv2.VideoWriter(output_file, fourcc, 20.0, output_resolution)\n",
        "\n",
        "while True:\n",
        "    ret, frame = cap.read()\n",
        "    if not ret:\n",
        "        break  # End of video stream\n",
        "\n",
        "    image_np = np.array(frame)\n",
        "    input_tensor = tf.convert_to_tensor(np.expand_dims(image_np, 0), dtype=tf.float32)\n",
        "    detections = detect_fn(input_tensor)\n",
        "    num_detections = int(detections.pop('num_detections'))\n",
        "\n",
        "    detections = {key: value[0, :num_detections].numpy() for key, value in detections.items()}\n",
        "    detections['num_detections'] = num_detections\n",
        "    detections['detection_classes'] = detections['detection_classes'].astype(np.int64)\n",
        "\n",
        "    label_id_offset = 1\n",
        "    image_np_with_detections = image_np.copy()\n",
        "\n",
        "    viz_utils.visualize_boxes_and_labels_on_image_array(\n",
        "        image_np_with_detections,\n",
        "        detections['detection_boxes'],\n",
        "        detections['detection_classes'] + label_id_offset,\n",
        "        detections['detection_scores'],\n",
        "        category_index,\n",
        "        use_normalized_coordinates=True,\n",
        "        max_boxes_to_draw=1,\n",
        "        min_score_thresh=0.1,\n",
        "        agnostic_mode=False\n",
        "    )\n",
        "\n",
        "    # Resize and write the frame to the video output\n",
        "    out.write(cv2.resize(image_np_with_detections, output_resolution))\n",
        "    cv2_imshow(cv2.resize(image_np_with_detections, (640, 640)))\n",
        "\n",
        "    if cv2.waitKey(1) & 0xFF == ord('q'):\n",
        "        break\n",
        "\n",
        "# Release the VideoWriter and destroy all OpenCV windows\n",
        "out.release()\n",
        "cv2.destroyAllWindows()"
      ]
    }
  ],
  "metadata": {
    "accelerator": "GPU",
    "colab": {
      "gpuType": "T4",
      "provenance": []
    },
    "kernelspec": {
      "display_name": "Python 3",
      "name": "python3"
    },
    "language_info": {
      "name": "python"
    }
  },
  "nbformat": 4,
  "nbformat_minor": 0
}
